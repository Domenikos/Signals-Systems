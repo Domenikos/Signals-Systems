{
 "cells": [
  {
   "cell_type": "markdown",
   "metadata": {},
   "source": [
    "# Time Scaling & Shifting Example"
   ]
  },
  {
   "cell_type": "code",
   "execution_count": 10,
   "metadata": {},
   "outputs": [],
   "source": [
    "import numpy as np\n",
    "import matplotlib.pyplot as plt"
   ]
  },
  {
   "cell_type": "markdown",
   "metadata": {},
   "source": [
    "Time scaling, time reversal, and time shifting example similar to Figure 1.8 in the textbook. <br>\n",
    "Time scaling.\n",
    "$$ y(t) = x(a t \\pm b) \\\\\n",
    "time\\ compression\\ when\\; |a| > 1 \\\\\n",
    "time\\ expansion\\ when\\; |a| < 1 \\\\\n",
    "time\\ reversal\\ when\\ a\\ is\\ negative \\\\\n",
    "time\\ shift\\ by\\ \\pm (b/a) \\\\\n",
    "time\\ shifts\\ to\\ right\\ if\\ ratio\\ is\\ negative,\\ to\\ the\\ left\\ if\\ positive $$\n",
    "\n",
    "First, a time scaling example.  Note that the magnitude of the signal is unchanged."
   ]
  },
  {
   "cell_type": "code",
   "execution_count": 11,
   "metadata": {},
   "outputs": [],
   "source": [
    "def triang_sig(t):\n",
    "    '''Triangular Signal Example'''\n",
    "    x = 5*(t)*(np.heaviside(t,1) - np.heaviside((t - 2),1))\n",
    "    return x\n",
    "\n",
    "t = np.linspace(-1, 5, 1000)\n",
    "x = triang_sig(t)\n",
    "y = x\n",
    "y1 = triang_sig(t/2)\n",
    "y2 = triang_sig(2*t)"
   ]
  },
  {
   "cell_type": "code",
   "execution_count": null,
   "metadata": {},
   "outputs": [],
   "source": [
    "plt.figure()\n",
    "plt.plot(t,x,label='x(t)')\n",
    "plt.plot(t,y1,label='x(t/2)')\n",
    "plt.plot(t,y2,label='x(2t)')\n",
    "plt.grid()\n",
    "plt.xlabel('t')\n",
    "plt.ylabel('y(t)')\n",
    "plt.legend()\n",
    "plt.title('Time Scaling Example')\n",
    "plt.show()"
   ]
  },
  {
   "cell_type": "markdown",
   "metadata": {},
   "source": [
    "Example of a negative time (or time reversal) case."
   ]
  },
  {
   "cell_type": "code",
   "execution_count": 13,
   "metadata": {},
   "outputs": [],
   "source": [
    "t = np.linspace(-5, 1, 1000)\n",
    "x = triang_sig(-t)\n",
    "y = x\n",
    "y1 = triang_sig(-t/2)\n",
    "y2 = triang_sig(-2*t)"
   ]
  },
  {
   "cell_type": "code",
   "execution_count": null,
   "metadata": {},
   "outputs": [],
   "source": [
    "plt.figure()\n",
    "plt.plot(t,x,label='x(-t)')\n",
    "plt.plot(t,y1,label='x(-t/2)')\n",
    "plt.plot(t,y2,label='x(-2t)')\n",
    "plt.grid()\n",
    "plt.xlabel('t')\n",
    "plt.ylabel('y(t)')\n",
    "plt.legend()\n",
    "plt.title('Time Reversal & Scaling Example')\n",
    "plt.show()"
   ]
  },
  {
   "cell_type": "markdown",
   "metadata": {},
   "source": [
    "Example of a time-shift when a constant is added or substracted from t.\n",
    "$$ y(t) = x(t \\pm b) \\\\\n",
    "x(t - b)\\ shifts\\ x(t)\\ to\\ the\\ right\\ by\\ b \\\\\n",
    "x(t + b)\\ shifts\\ x(t)\\ to\\ the\\ left\\ by\\ b$$"
   ]
  },
  {
   "cell_type": "code",
   "execution_count": 15,
   "metadata": {},
   "outputs": [],
   "source": [
    "t = np.linspace(-3, 5, 1000)\n",
    "x = triang_sig(t)\n",
    "y = x\n",
    "y1 = triang_sig(t-2)\n",
    "y2 = triang_sig(t+2)"
   ]
  },
  {
   "cell_type": "code",
   "execution_count": null,
   "metadata": {},
   "outputs": [],
   "source": [
    "plt.figure()\n",
    "plt.plot(t,x,label='x(t)')\n",
    "plt.plot(t,y1,label='x(t-2)')\n",
    "plt.plot(t,y2,label='x(t+2)')\n",
    "plt.grid()\n",
    "plt.xlabel('t')\n",
    "plt.ylabel('y(t)')\n",
    "plt.legend()\n",
    "plt.title('Time Shifting Example')\n",
    "plt.show()"
   ]
  },
  {
   "cell_type": "markdown",
   "metadata": {},
   "source": [
    "Combined time scaling and shifting example. <br>\n",
    "$$ y(t) = x(a t \\pm b) \\\\\n",
    "time\\ scales\\ by\\ a\\ and\\ shifts\\ by\\ \\pm b/a $$"
   ]
  },
  {
   "cell_type": "code",
   "execution_count": 23,
   "metadata": {},
   "outputs": [],
   "source": [
    "t = np.linspace(-3, 4, 1000)\n",
    "x = triang_sig(t)\n",
    "y = x\n",
    "y1 = triang_sig(2*t-4)\n",
    "y2 = triang_sig(2*t+4)"
   ]
  },
  {
   "cell_type": "code",
   "execution_count": null,
   "metadata": {},
   "outputs": [],
   "source": [
    "plt.figure()\n",
    "plt.plot(t,x,label='x(t)')\n",
    "plt.plot(t,y1,label='x(2t-4)')\n",
    "plt.plot(t,y2,label='x(2t+4)')\n",
    "plt.grid()\n",
    "plt.xlabel('t')\n",
    "plt.ylabel('y(t)')\n",
    "plt.legend()\n",
    "plt.title('Time Scaling & Shifting Example')\n",
    "plt.show()"
   ]
  }
 ],
 "metadata": {
  "kernelspec": {
   "display_name": "Python 3",
   "language": "python",
   "name": "python3"
  },
  "language_info": {
   "codemirror_mode": {
    "name": "ipython",
    "version": 3
   },
   "file_extension": ".py",
   "mimetype": "text/x-python",
   "name": "python",
   "nbconvert_exporter": "python",
   "pygments_lexer": "ipython3",
   "version": "3.12.3"
  }
 },
 "nbformat": 4,
 "nbformat_minor": 2
}
