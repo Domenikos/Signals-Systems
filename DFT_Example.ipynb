{
 "cells": [
  {
   "cell_type": "markdown",
   "metadata": {},
   "source": [
    "# Discrete Fourier Transform (DFT)\n"
   ]
  },
  {
   "cell_type": "code",
   "execution_count": 1,
   "metadata": {},
   "outputs": [],
   "source": [
    "import numpy as np\n",
    "import matplotlib.pyplot as plt\n",
    "import scipy as sp\n"
   ]
  },
  {
   "cell_type": "markdown",
   "metadata": {},
   "source": [
    "### DFT and Inverse DFT\n",
    "#### DFT\n",
    "$$ \n",
    "X(k) = DFT[x(n)] = \\sum_{n=0}^{N-1} x(n) e^{-j 2\\pi n k / N}, \\; \\; \\; k \\in [0, N-1]\n",
    "$$\n",
    "#### Inverse DFT\n",
    "$$\n",
    "x(n) = iDFT[X(k)] = \\frac{1}{N} \\sum_{k=0}^{N-1} x(n) e^{j 2\\pi n k / N}, \\; \\; \\; n \\in [0, N-1]\n",
    "$$\n",
    "\n"
   ]
  },
  {
   "cell_type": "code",
   "execution_count": 2,
   "metadata": {},
   "outputs": [],
   "source": [
    "def DFT(x):\n",
    "    '''DFT from the defining equation'''\n",
    "    N = len(x)\n",
    "    X = np.zeros(N, dtype=complex)\n",
    "    for k in range(N):\n",
    "        for n in range(N):\n",
    "            X[k] += x[n] * np.exp(-2j * np.pi * k * n / N)\n",
    "    return X\n"
   ]
  },
  {
   "cell_type": "markdown",
   "metadata": {},
   "source": [
    "#### Create Input Sequence"
   ]
  },
  {
   "cell_type": "code",
   "execution_count": 3,
   "metadata": {},
   "outputs": [],
   "source": [
    "N = 39                  # sequency length\n",
    "k1 = 5                  # frequency index for first signal component\n",
    "k2 = np.floor(N/2) - 1  # frequency index for second signal component at the upper end\n",
    "n = np.arange(N)\n",
    "x = np.sin(2 * np.pi * k1 * n / N) + 0.5 * np.cos(2 * np.pi * k2 * n / N + np.pi/4)\n"
   ]
  },
  {
   "cell_type": "markdown",
   "metadata": {},
   "source": [
    "#### Display Input Sequence"
   ]
  },
  {
   "cell_type": "code",
   "execution_count": null,
   "metadata": {},
   "outputs": [],
   "source": [
    "plt.figure()\n",
    "plt.stem(n,x)\n",
    "plt.grid()\n",
    "plt.xlabel('time index (n)')\n",
    "plt.ylabel('x(n)')\n",
    "plt.title(rf'Signal, N = {N}')\n",
    "plt.show()"
   ]
  },
  {
   "cell_type": "markdown",
   "metadata": {},
   "source": [
    "#### DFT of Input Sequence"
   ]
  },
  {
   "cell_type": "code",
   "execution_count": 5,
   "metadata": {},
   "outputs": [],
   "source": [
    "X = DFT(x)\n",
    "# X = sp.fft.fft(x)\n",
    "k = np.arange(N)\n"
   ]
  },
  {
   "cell_type": "markdown",
   "metadata": {},
   "source": [
    "#### Display Magnitude of DFT:  |X(k)| = |DFT[x(n)]|\n",
    "Since |X(k)| is an real even sequence\n",
    "$$ |X(k)| = |X(N-k)|$$"
   ]
  },
  {
   "cell_type": "code",
   "execution_count": null,
   "metadata": {},
   "outputs": [],
   "source": [
    "plt.figure()\n",
    "plt.stem(k,abs(X))\n",
    "plt.grid()\n",
    "plt.xlabel('k')\n",
    "plt.ylabel('|X(k)|')\n",
    "plt.title('DFT Magnitude')\n",
    "plt.show()"
   ]
  },
  {
   "cell_type": "markdown",
   "metadata": {},
   "source": [
    "### Magnitude Response for Positive Frequencies\n",
    "Display |H(k)| between 0 to $k_{max} / N  \\le 1/2$ (the relative Nyquist frequency) <br>\n",
    "where $k_{max} = \\left \\{ \\begin{matrix} N/2 & N\\ even \\\\ (N-1)/2 & N\\ odd \\end{matrix} \\right \\}$"
   ]
  },
  {
   "cell_type": "code",
   "execution_count": null,
   "metadata": {},
   "outputs": [],
   "source": [
    "plt.figure()\n",
    "Kd2max = int(np.floor(N/2))+1\n",
    "plt.stem(k[0:Kd2max],abs(X[0:Kd2max]))\n",
    "plt.grid()\n",
    "plt.xlabel(r'k [0 to $k_{max}$ (Nyquist Frequency index)]')\n",
    "plt.ylabel('|X(k)|')\n",
    "plt.title('DFT Magnitude (Positive Frequencies)')\n",
    "plt.show()"
   ]
  }
 ],
 "metadata": {
  "kernelspec": {
   "display_name": "Python 3",
   "language": "python",
   "name": "python3"
  },
  "language_info": {
   "codemirror_mode": {
    "name": "ipython",
    "version": 3
   },
   "file_extension": ".py",
   "mimetype": "text/x-python",
   "name": "python",
   "nbconvert_exporter": "python",
   "pygments_lexer": "ipython3",
   "version": "3.12.3"
  }
 },
 "nbformat": 4,
 "nbformat_minor": 2
}
